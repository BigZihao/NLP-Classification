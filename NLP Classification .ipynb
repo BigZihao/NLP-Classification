{
 "cells": [
  {
   "cell_type": "markdown",
   "metadata": {},
   "source": [
    "## NLP Classification \n",
    "This is an initiative NLP classification that Mike and I have. We plan to automatically classfify variable names of the output from AMP. "
   ]
  },
  {
   "cell_type": "code",
   "execution_count": 15,
   "metadata": {
    "collapsed": true
   },
   "outputs": [],
   "source": [
    "%matplotlib inline\n",
    "import pandas as pd\n",
    "import numpy as np\n",
    "from textblob.classifiers import NaiveBayesClassifier\n",
    "import nltk\n",
    "import tokenize\n",
    "from collections import Counter\n",
    "import matplotlib.pyplot as plt\n",
    "import plotly.plotly as py"
   ]
  },
  {
   "cell_type": "markdown",
   "metadata": {},
   "source": [
    "## Read and process the data"
   ]
  },
  {
   "cell_type": "code",
   "execution_count": 4,
   "metadata": {
    "collapsed": false
   },
   "outputs": [],
   "source": [
    "df = pd.read_csv('C:/Users/zihao.zhang/NLP Classification/variable classification.csv')"
   ]
  },
  {
   "cell_type": "code",
   "execution_count": 5,
   "metadata": {
    "collapsed": false
   },
   "outputs": [
    {
     "data": {
      "text/html": [
       "<div>\n",
       "<table border=\"1\" class=\"dataframe\">\n",
       "  <thead>\n",
       "    <tr style=\"text-align: right;\">\n",
       "      <th></th>\n",
       "      <th>Variable</th>\n",
       "      <th>Grouping 1</th>\n",
       "      <th>Grouping 2</th>\n",
       "      <th>Base vs Marketing</th>\n",
       "    </tr>\n",
       "  </thead>\n",
       "  <tbody>\n",
       "    <tr>\n",
       "      <th>10</th>\n",
       "      <td>SNACKS.Digital Display Impressions</td>\n",
       "      <td>Digital</td>\n",
       "      <td>Display</td>\n",
       "      <td>Marketing</td>\n",
       "    </tr>\n",
       "    <tr>\n",
       "      <th>11</th>\n",
       "      <td>SNACKS - CANS.Quad Week %ACV _v3 - Drug</td>\n",
       "      <td>Distribution</td>\n",
       "      <td>Distribution</td>\n",
       "      <td>Base</td>\n",
       "    </tr>\n",
       "    <tr>\n",
       "      <th>12</th>\n",
       "      <td>SNACKS - CANS.Quad Week %ACV _v3 - Food</td>\n",
       "      <td>Distribution</td>\n",
       "      <td>Distribution</td>\n",
       "      <td>Base</td>\n",
       "    </tr>\n",
       "    <tr>\n",
       "      <th>13</th>\n",
       "      <td>SNACKS - CANS.Total FSIs</td>\n",
       "      <td>In Store</td>\n",
       "      <td>FSIs</td>\n",
       "      <td>Marketing</td>\n",
       "    </tr>\n",
       "    <tr>\n",
       "      <th>14</th>\n",
       "      <td>Constant.Intercept</td>\n",
       "      <td>Intercept</td>\n",
       "      <td>Intercept</td>\n",
       "      <td>Base</td>\n",
       "    </tr>\n",
       "    <tr>\n",
       "      <th>15</th>\n",
       "      <td>Blue Diamond.Market Dummy v2.Atlanta, GA - Food</td>\n",
       "      <td>Intercept</td>\n",
       "      <td>Intercept</td>\n",
       "      <td>Base</td>\n",
       "    </tr>\n",
       "    <tr>\n",
       "      <th>16</th>\n",
       "      <td>Blue Diamond.Market Dummy v2.Baltimore, MD/Was...</td>\n",
       "      <td>Intercept</td>\n",
       "      <td>Intercept</td>\n",
       "      <td>Base</td>\n",
       "    </tr>\n",
       "    <tr>\n",
       "      <th>17</th>\n",
       "      <td>Blue Diamond.Market Dummy v2.Birmingham/Montgo...</td>\n",
       "      <td>Intercept</td>\n",
       "      <td>Intercept</td>\n",
       "      <td>Base</td>\n",
       "    </tr>\n",
       "    <tr>\n",
       "      <th>18</th>\n",
       "      <td>Blue Diamond.Market Dummy v2.Boise, ID - Food</td>\n",
       "      <td>Intercept</td>\n",
       "      <td>Intercept</td>\n",
       "      <td>Base</td>\n",
       "    </tr>\n",
       "    <tr>\n",
       "      <th>19</th>\n",
       "      <td>Blue Diamond.Market Dummy v2.Boston, MA - Food</td>\n",
       "      <td>Intercept</td>\n",
       "      <td>Intercept</td>\n",
       "      <td>Base</td>\n",
       "    </tr>\n",
       "  </tbody>\n",
       "</table>\n",
       "</div>"
      ],
      "text/plain": [
       "                                             Variable    Grouping 1  \\\n",
       "10                 SNACKS.Digital Display Impressions       Digital   \n",
       "11            SNACKS - CANS.Quad Week %ACV _v3 - Drug  Distribution   \n",
       "12            SNACKS - CANS.Quad Week %ACV _v3 - Food  Distribution   \n",
       "13                           SNACKS - CANS.Total FSIs      In Store   \n",
       "14                                 Constant.Intercept     Intercept   \n",
       "15    Blue Diamond.Market Dummy v2.Atlanta, GA - Food     Intercept   \n",
       "16  Blue Diamond.Market Dummy v2.Baltimore, MD/Was...     Intercept   \n",
       "17  Blue Diamond.Market Dummy v2.Birmingham/Montgo...     Intercept   \n",
       "18      Blue Diamond.Market Dummy v2.Boise, ID - Food     Intercept   \n",
       "19     Blue Diamond.Market Dummy v2.Boston, MA - Food     Intercept   \n",
       "\n",
       "      Grouping 2 Base vs Marketing  \n",
       "10       Display         Marketing  \n",
       "11  Distribution              Base  \n",
       "12  Distribution              Base  \n",
       "13          FSIs         Marketing  \n",
       "14     Intercept              Base  \n",
       "15     Intercept              Base  \n",
       "16     Intercept              Base  \n",
       "17     Intercept              Base  \n",
       "18     Intercept              Base  \n",
       "19     Intercept              Base  "
      ]
     },
     "execution_count": 5,
     "metadata": {},
     "output_type": "execute_result"
    }
   ],
   "source": [
    "df.iloc[10:20]"
   ]
  },
  {
   "cell_type": "markdown",
   "metadata": {},
   "source": [
    "### Update\n",
    "\n",
    "Based on some initial test, I found out there are many noise in sentence that will impair the prediction power. For example, in the sentence \"Blue Diamond.Market Dummy v2.Atlanta, GA - Food\", the word \"dummy\" have all the information to predict that it is a intercept while all other words would be just noise for prediction. So it is important to clean the data first. I create a list of \"stopwords\" that I believe contain important information for prediction. Then our model becoming that we are looking for the key words in a sentence then make predictions based on the cleaned setence.\n",
    "\n",
    "In specific:\n",
    "\n",
    "1. delete all numbers\n",
    "2. normalize words: lower case, punctuation, remove morphological affixes from words\n",
    "3. delete all noise words. this part is actually done manually right now, might cause overfitting to specific projects. can be improved using large training data"
   ]
  },
  {
   "cell_type": "code",
   "execution_count": 6,
   "metadata": {
    "collapsed": false
   },
   "outputs": [],
   "source": [
    "import re\n",
    "from stemming.porter2 import stem\n",
    "\n",
    "# define the fucntion to clean text data\n",
    "def clean(x):\n",
    "    x = re.sub('[^A-Za-z]+', \" \",  x.lower())\n",
    "    x=x.replace('.',' ')\n",
    "    stopwords=['dummi','acv','discount','volume','season','new year','christma','easter','month','thanksgiv',\n",
    "               'price','promo','coupon','print','media','social','twitter','facebook','instagram','radio','competit','campaign',\n",
    "               'magazin','mobil','intercept','constant','trade','display','impress','paid','search','click','dummi','base','rollback',\n",
    "               'pr','memorial','digital','market','july','cost','fsi','can','bag','total','merch','ani','featur','brand',\n",
    "              'general','sale','categori','actual','predict','valentin','lag','trp','tv','distribut','weight']\n",
    "    querywords = x.split()\n",
    "    querywords = [stem(querywords[i]) for i in np.arange(len(querywords))]\n",
    "    resultwords  = [word for word in querywords if word in stopwords]\n",
    "    result = ' '.join(resultwords)\n",
    "    return(result) # The text to search\n"
   ]
  },
  {
   "cell_type": "markdown",
   "metadata": {},
   "source": [
    "There are few rows that dose not have any words in the stepwords. I will delete those rows for now"
   ]
  },
  {
   "cell_type": "code",
   "execution_count": 7,
   "metadata": {
    "collapsed": false
   },
   "outputs": [],
   "source": [
    "df['Variable'] = list(map(clean,df['Variable']))\n",
    "df = df[df.Variable != '']"
   ]
  },
  {
   "cell_type": "markdown",
   "metadata": {},
   "source": [
    "This is a Visualization part showing the word frequency of our data after cleaning."
   ]
  },
  {
   "cell_type": "code",
   "execution_count": 23,
   "metadata": {
    "collapsed": false
   },
   "outputs": [],
   "source": [
    "wordlist = str(list(map(clean,df['Variable']))).strip('[]').replace('\\', \\'',' ')\n",
    "wordfreq = pd.DataFrame(Counter(wordlist.split()).most_common())\n",
    "wordfreq.columns=['word','count']\n",
    "wordfreq2=wordfreq[wordfreq['count']>15]"
   ]
  },
  {
   "cell_type": "code",
   "execution_count": 24,
   "metadata": {
    "collapsed": false
   },
   "outputs": [
    {
     "data": {
      "image/png": "[encoded data removed]",
      "text/plain": [
       "<matplotlib.figure.Figure at 0xc6abc50>"
      ]
     },
     "metadata": {},
     "output_type": "display_data"
    }
   ],
   "source": [
    "objects = wordfreq2.iloc[:,0]\n",
    "y_pos = np.arange(len(objects))\n",
    "performance = wordfreq2.iloc[:,1]\n",
    " \n",
    "plt.barh(y_pos, performance, align='center', alpha=0.5)\n",
    "plt.yticks(y_pos, objects)\n",
    "plt.ylabel('Usage')\n",
    "plt.title('Programming language usage')\n",
    " \n",
    "plt.show()"
   ]
  },
  {
   "cell_type": "markdown",
   "metadata": {},
   "source": [
    "Seperate the sample data to training data and test data"
   ]
  },
  {
   "cell_type": "code",
   "execution_count": 847,
   "metadata": {
    "collapsed": false
   },
   "outputs": [],
   "source": [
    "text = df[['Variable', 'Grouping 2']].apply(tuple, axis=1)\n",
    "text = [i for i in text]\n",
    "import random\n",
    "index = random.sample(range(len(text)),int(len(text)*0.9))\n",
    "train = [ text[i] for i in  index]\n",
    "index2 = [i for i in list(range(len(text))) if i not in index]\n",
    "test = [ text[i] for i in  index2]"
   ]
  },
  {
   "cell_type": "code",
   "execution_count": 848,
   "metadata": {
    "collapsed": false
   },
   "outputs": [
    {
     "data": {
      "text/plain": [
       "[('can base price', 'Base Price'),\n",
       " ('market dummi', 'Intercept'),\n",
       " ('can acv weight distribut', 'Competitive Distribution'),\n",
       " ('christma dummi', 'Seasonality'),\n",
       " ('market dummi', 'Intercept'),\n",
       " ('market dummi', 'Intercept'),\n",
       " ('market dummi', 'Intercept'),\n",
       " ('market dummi', 'Intercept'),\n",
       " ('pr impress', 'PR'),\n",
       " ('market dummi', 'Intercept'),\n",
       " ('acv discount', 'Trade'),\n",
       " ('market dummi', 'Intercept'),\n",
       " ('market dummi', 'Intercept'),\n",
       " ('market dummi', 'Intercept'),\n",
       " ('market dummi', 'Intercept'),\n",
       " ('bag season', 'Seasonality'),\n",
       " ('featur', 'Trade'),\n",
       " ('acv weight distribut', 'Competitive Distribution'),\n",
       " ('market dummi', 'Intercept')]"
      ]
     },
     "execution_count": 848,
     "metadata": {},
     "output_type": "execute_result"
    }
   ],
   "source": [
    "train[1:20]"
   ]
  },
  {
   "cell_type": "markdown",
   "metadata": {},
   "source": [
    "## Model \n",
    "\n",
    "Naive Bayesian Classifier. The idea is based on this package: https://textblob.readthedocs.io/en/dev/classifiers.html#classifying-text"
   ]
  },
  {
   "cell_type": "code",
   "execution_count": 849,
   "metadata": {
    "collapsed": true
   },
   "outputs": [],
   "source": [
    "cl = NaiveBayesClassifier(train)"
   ]
  },
  {
   "cell_type": "code",
   "execution_count": 850,
   "metadata": {
    "collapsed": false
   },
   "outputs": [
    {
     "data": {
      "text/plain": [
       "0.8888888888888888"
      ]
     },
     "execution_count": 850,
     "metadata": {},
     "output_type": "execute_result"
    }
   ],
   "source": [
    "cl.accuracy(test)"
   ]
  },
  {
   "cell_type": "markdown",
   "metadata": {},
   "source": [
    "### Previous conclusion\n",
    "\n",
    "The prediction accuracy is actually pretty bad, only 30%. \n",
    "\n",
    "Naive Bayesian is simple model, basically it is detecting the important words in each class considering their frequecy in training data. \n",
    "\n",
    "So in data process, we need to automatically delete those word with no information. For example, the model would predict trade when sees 2016. This should be avoid in future modeling.\n",
    "\n",
    "\n",
    "### Update\n",
    "\n",
    "From the previous modeling results, we found out the noise in variable name is the key (small training data is also a cause). So this time my main focus is to clean the noise.\n",
    "\n",
    "\n",
    "88% accuracy by using the cleaned dataset. we are looking for key words in the variable names and try to predict the group name using the cleaned variable name. This actually works much better. the key in this modelling is to delete the noisy information contained in the variable name. "
   ]
  },
  {
   "cell_type": "code",
   "execution_count": 858,
   "metadata": {
    "collapsed": false
   },
   "outputs": [
    {
     "name": "stdout",
     "output_type": "stream",
     "text": [
      "Most Informative Features\n",
      "         contains(total) = True           Snacks : Interc =    126.0 : 1.0\n",
      "         contains(dummi) = False           Trade : Interc =     83.6 : 1.0\n",
      "        contains(market) = False          Season : Interc =     83.1 : 1.0\n",
      "          contains(sale) = True           Catego : Trade  =     67.4 : 1.0\n",
      "         contains(merch) = True           Compet : Trade  =     40.7 : 1.0\n",
      "           contains(ani) = True           Compet : Trade  =     40.7 : 1.0\n",
      "        contains(market) = True           Interc : Trade  =     29.4 : 1.0\n",
      "           contains(bag) = True           Actual : Season =     16.0 : 1.0\n",
      "      contains(categori) = False          Interc : Catego =     12.0 : 1.0\n",
      "         contains(dummi) = True           Interc : Catego =     11.9 : 1.0\n"
     ]
    }
   ],
   "source": [
    "cl.show_informative_features(10)"
   ]
  },
  {
   "cell_type": "markdown",
   "metadata": {},
   "source": [
    "Let's take a look at which part the model didn't predict well. The following tuple shows the prediiton. The last column is predicted class while the second column is true class. "
   ]
  },
  {
   "cell_type": "code",
   "execution_count": 852,
   "metadata": {
    "collapsed": false
   },
   "outputs": [],
   "source": [
    "prediction = [cl.classify(test[i][0]) for i in np.arange(len(test))]"
   ]
  },
  {
   "cell_type": "code",
   "execution_count": 853,
   "metadata": {
    "collapsed": false
   },
   "outputs": [
    {
     "data": {
      "text/plain": [
       "[('can base price', 'Base Price', 'Competitive Base Price'),\n",
       " ('market dummi', 'Intercept', 'Intercept'),\n",
       " ('market dummi', 'Intercept', 'Intercept'),\n",
       " ('market dummi', 'Intercept', 'Intercept'),\n",
       " ('market dummi', 'Intercept', 'Intercept'),\n",
       " ('market dummi', 'Intercept', 'Intercept'),\n",
       " ('market dummi', 'Intercept', 'Intercept'),\n",
       " ('market dummi', 'Intercept', 'Intercept'),\n",
       " ('market dummi', 'Intercept', 'Intercept'),\n",
       " ('can ani merch', 'Competitive Trade', 'Competitive Trade'),\n",
       " ('can', 'Trade', 'FSIs'),\n",
       " ('can display', 'Trade', 'Trade'),\n",
       " ('categori bag sale', 'Category', 'Category'),\n",
       " ('coupon', 'Digital Coupons', 'Digital Coupons'),\n",
       " ('market dummi', 'Intercept', 'Intercept'),\n",
       " ('market dummi', 'Intercept', 'Intercept'),\n",
       " ('market dummi', 'Intercept', 'Intercept'),\n",
       " ('market dummi', 'Intercept', 'Intercept'),\n",
       " ('competit print impress', 'Competitive Media', 'Competitive Media'),\n",
       " ('total impress', 'Social Media', 'Social Media')]"
      ]
     },
     "execution_count": 853,
     "metadata": {},
     "output_type": "execute_result"
    }
   ],
   "source": [
    "[(test[i][0],test[i][1],prediction[i]) for i in  np.arange(20)]"
   ]
  },
  {
   "cell_type": "code",
   "execution_count": 854,
   "metadata": {
    "collapsed": false
   },
   "outputs": [],
   "source": [
    "indexwrong = [test[i][1]!=prediction[i] for i in  np.arange(len(test))]\n",
    "a= np.array(index2)\n",
    "a= a[indexwrong]\n",
    "a= list(a)\n",
    "b = np.array(np.arange(len(test)))\n",
    "b = b[indexwrong]"
   ]
  },
  {
   "cell_type": "markdown",
   "metadata": {},
   "source": [
    "This above shows where the model predict wrong. "
   ]
  },
  {
   "cell_type": "code",
   "execution_count": 855,
   "metadata": {
    "collapsed": false
   },
   "outputs": [
    {
     "data": {
      "text/plain": [
       "[('can base price', 'Base Price', 'Competitive Base Price'),\n",
       " ('can', 'Trade', 'FSIs'),\n",
       " ('total impress', 'Catalina', 'Social Media'),\n",
       " ('tv', 'Breeze TV', 'FSIs'),\n",
       " ('actual', 'Dependent', 'FSIs'),\n",
       " ('tv campaign', 'Snacks TV', 'Breeze TV'),\n",
       " ('tv campaign', 'Snacks TV', 'Breeze TV'),\n",
       " ('bag sale', 'Category', 'FSIs'),\n",
       " ('sale', 'Competition', 'Category'),\n",
       " ('impress', 'Catalina', 'Social Media')]"
      ]
     },
     "execution_count": 855,
     "metadata": {},
     "output_type": "execute_result"
    }
   ],
   "source": [
    "[(test[i][0],test[i][1],prediction[i]) for i in np.arange(len(test)) if i in b]"
   ]
  },
  {
   "cell_type": "markdown",
   "metadata": {},
   "source": [
    "## Future work\n",
    "\n",
    "With more data and more rich vocabulary into the \"stopwords\", I am expecting prediction results in new dataset growing to >90%. "
   ]
  }
 ],
 "metadata": {
  "anaconda-cloud": {},
  "kernelspec": {
   "display_name": "Python [Root]",
   "language": "python",
   "name": "Python [Root]"
  },
  "language_info": {
   "codemirror_mode": {
    "name": "ipython",
    "version": 3
   },
   "file_extension": ".py",
   "mimetype": "text/x-python",
   "name": "python",
   "nbconvert_exporter": "python",
   "pygments_lexer": "ipython3",
   "version": "3.5.2"
  }
 },
 "nbformat": 4,
 "nbformat_minor": 0
}
